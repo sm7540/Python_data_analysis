{
 "cells": [
  {
   "cell_type": "markdown",
   "metadata": {
    "id": "sqPtXjmZ-cDG"
   },
   "source": [
    "# 1. 자료형"
   ]
  },
  {
   "cell_type": "code",
   "execution_count": null,
   "metadata": {
    "id": "BnZ9bEsY_4fv"
   },
   "outputs": [],
   "source": [
    "a = 10"
   ]
  },
  {
   "cell_type": "code",
   "execution_count": null,
   "metadata": {
    "id": "9_i3ZZVD_53d"
   },
   "outputs": [],
   "source": [
    "b = 10.2"
   ]
  },
  {
   "cell_type": "markdown",
   "metadata": {
    "id": "1t7E4Hn1APZF"
   },
   "source": [
    "### mod 나머지연산 (패턴을 찾기 위한 내용)"
   ]
  },
  {
   "cell_type": "code",
   "execution_count": null,
   "metadata": {
    "id": "WP2t6UyGAUj6"
   },
   "outputs": [],
   "source": [
    "inputWeek = 15"
   ]
  },
  {
   "cell_type": "code",
   "execution_count": null,
   "metadata": {
    "id": "UCx223qHAp4c"
   },
   "outputs": [],
   "source": [
    "currentWeek = 4\n",
    "if(inputWeek % currentWeek == 0)\n"
   ]
  },
  {
   "cell_type": "markdown",
   "metadata": {
    "id": "oqVPZdPEAtQL"
   },
   "source": [
    "1-2.문자"
   ]
  },
  {
   "cell_type": "code",
   "execution_count": null,
   "metadata": {
    "id": "a7DYdh0iBU3D"
   },
   "outputs": [],
   "source": [
    "a = 10.2"
   ]
  },
  {
   "cell_type": "code",
   "execution_count": null,
   "metadata": {
    "id": "kVN3nWDoBa9M"
   },
   "outputs": [],
   "source": [
    "b = 5"
   ]
  },
  {
   "cell_type": "code",
   "execution_count": null,
   "metadata": {
    "id": "9FLegoKJBYX8"
   },
   "outputs": [],
   "source": [
    "c = \"10.2\"\n",
    "d = \"5\"\n"
   ]
  },
  {
   "cell_type": "code",
   "execution_count": null,
   "metadata": {
    "colab": {
     "base_uri": "https://localhost:8080/",
     "height": 35
    },
    "id": "hNAQkSN5BhXg",
    "outputId": "5d8c946a-64c1-45da-94e2-04a66146f11e"
   },
   "outputs": [
    {
     "data": {
      "application/vnd.google.colaboratory.intrinsic+json": {
       "type": "string"
      },
      "text/plain": [
       "'10.25'"
      ]
     },
     "execution_count": 8,
     "metadata": {},
     "output_type": "execute_result"
    }
   ],
   "source": [
    "a+b\n",
    "c+d"
   ]
  },
  {
   "cell_type": "code",
   "execution_count": null,
   "metadata": {
    "colab": {
     "base_uri": "https://localhost:8080/",
     "height": 35
    },
    "id": "MJKjOefhCERp",
    "outputId": "b973ca09-bfbc-4289-8a01-0fce5211f965"
   },
   "outputs": [
    {
     "data": {
      "application/vnd.google.colaboratory.intrinsic+json": {
       "type": "string"
      },
      "text/plain": [
       "'202415'"
      ]
     },
     "execution_count": 9,
     "metadata": {},
     "output_type": "execute_result"
    }
   ],
   "source": [
    "yearinfo = \"2024\"\n",
    "weekinfo = \"15\"\n",
    "yearweekinfo = yearinfo + weekinfo\n",
    "yearweekinfo"
   ]
  },
  {
   "cell_type": "markdown",
   "metadata": {
    "id": "RcX0BOeKCRW_"
   },
   "source": [
    "### 연주차 정보가 주어졌습니다.. : 202410\n",
    "### 연도와 주차정보를 분리 해보세요 ~ !!"
   ]
  },
  {
   "cell_type": "code",
   "execution_count": null,
   "metadata": {
    "colab": {
     "base_uri": "https://localhost:8080/",
     "height": 35
    },
    "id": "CSlkPbxwCbSe",
    "outputId": "e611a617-c578-47df-bb8b-d8ce3e753e02"
   },
   "outputs": [
    {
     "data": {
      "application/vnd.google.colaboratory.intrinsic+json": {
       "type": "string"
      },
      "text/plain": [
       "'10'"
      ]
     },
     "execution_count": 17,
     "metadata": {},
     "output_type": "execute_result"
    }
   ],
   "source": [
    "yearweekinfo = \"202410\"\n",
    "\n",
    "yearIndex = 4\n",
    "yearweekinfo[0:yearIndex]\n",
    "\n",
    "yearinfo  = yearweekinfo[:yearIndex];\n",
    "weekinfo  = yearweekinfo[yearIndex:];\n",
    "weekinfo\n"
   ]
  },
  {
   "cell_type": "code",
   "execution_count": null,
   "metadata": {
    "colab": {
     "base_uri": "https://localhost:8080/"
    },
    "id": "OXNGKhW9InR6",
    "outputId": "d1f3b81c-1d3d-4046-f779-5e7b98cc8e4f"
   },
   "outputs": [
    {
     "name": "stdout",
     "output_type": "stream",
     "text": [
      "202410\n",
      "1\n"
     ]
    }
   ],
   "source": [
    "print(yearweekinfo[:])\n",
    "print(yearweekinfo[yearIndex:5])\n",
    "\n"
   ]
  },
  {
   "cell_type": "markdown",
   "metadata": {
    "id": "6cVPR-QfIPwe"
   },
   "source": [
    "+더하기가 합치는거다.\n",
    "인덱스 ****** [0 : 5]\n"
   ]
  },
  {
   "cell_type": "code",
   "execution_count": null,
   "metadata": {
    "colab": {
     "base_uri": "https://localhost:8080/"
    },
    "id": "bjXQLQdaIT6L",
    "outputId": "8e5ec50f-24a5-4a85-83b1-13c579a1a972"
   },
   "outputs": [
    {
     "data": {
      "text/plain": [
       "0"
      ]
     },
     "execution_count": 26,
     "metadata": {},
     "output_type": "execute_result"
    }
   ],
   "source": [
    "specificChar = \"W\"\n",
    "yearweekinfo.count(specificChar)\n",
    "# print(yearweekinfo.index(specificChar))"
   ]
  },
  {
   "cell_type": "code",
   "execution_count": null,
   "metadata": {
    "colab": {
     "base_uri": "https://localhost:8080/"
    },
    "id": "IIUDq8mLKxw2",
    "outputId": "5123863e-9bfc-4fe4-9a48-7183c21ffb28"
   },
   "outputs": [
    {
     "name": "stdout",
     "output_type": "stream",
     "text": [
      "6\n",
      "현재 년도는 : 2024W2년이고  주차입니다.\n"
     ]
    }
   ],
   "source": [
    "yearweekinfo = \"2024W28\"\n",
    "specificChar = \"W\"\n",
    "specificCharIndex = yearweekinfo.index(\"8\")\n",
    "print(specificCharIndex)\n",
    "yearInfo = yearweekinfo[:specificCharIndex]\n",
    "weekInfo = yearweekinfo[specificCharIndex+1:11]\n",
    "\n",
    "\n",
    "print(\"현재 년도는 : \"+yearInfo+\"년이고 \"+weekInfo+\" 주차입니다.\")\n",
    "\n",
    "# print(specificCharIndex);"
   ]
  },
  {
   "cell_type": "code",
   "execution_count": null,
   "metadata": {
    "colab": {
     "base_uri": "https://localhost:8080/"
    },
    "id": "OfpmHHGjN5W-",
    "outputId": "28772bda-0604-49ee-ab7b-873216e3ca83"
   },
   "outputs": [
    {
     "data": {
      "text/plain": [
       "7"
      ]
     },
     "execution_count": 55,
     "metadata": {},
     "output_type": "execute_result"
    }
   ],
   "source": [
    "inputid = \"HAITEAM\"\n",
    "password = \"haiteam\"\n",
    "# if inputid == password.upper() :\n",
    "  # print(\"로그인 성공\")\n",
    "\n",
    "\n",
    "\n",
    "# print(inputid.lower())\n",
    "# print(inputid.upper())\n",
    "\n",
    "\n",
    "inYearweek = \"2024_24\"\n",
    "usaStd = \"_\"\n",
    "korStd = \"W\"\n",
    "inYearweek.replace(usaStd,korStd)\n",
    "# print(inYearweek.replace(usaStd,korStd))\n",
    "\n",
    "# print(inYearweek.split(usaStd))\n",
    "answer = inYearweek.split(usaStd)\n",
    "# print(answer[0])\n",
    "\n",
    "# print(inYearweek.split(usaStd))\n",
    "# print(inYearweek)\n",
    "\n",
    "\n",
    "\n",
    "#파이썬 내장함수//길이반환\n",
    "len(inYearweek)\n",
    "\n",
    "\n"
   ]
  },
  {
   "cell_type": "code",
   "execution_count": null,
   "metadata": {
    "colab": {
     "base_uri": "https://localhost:8080/",
     "height": 72
    },
    "id": "x81Ne9XrScNN",
    "outputId": "bf210fc5-3ba0-4b38-fcc4-2c9d43f5ed3b"
   },
   "outputs": [
    {
     "name": "stdout",
     "output_type": "stream",
     "text": [
      "<class 'int'>\n",
      "10\n"
     ]
    },
    {
     "data": {
      "application/vnd.google.colaboratory.intrinsic+json": {
       "type": "string"
      },
      "text/plain": [
       "'2024'"
      ]
     },
     "execution_count": 66,
     "metadata": {},
     "output_type": "execute_result"
    }
   ],
   "source": [
    "inData = 202410\n",
    "print(type(inData))\n",
    "\n",
    "(int)(inData /100)\n",
    "\n",
    "inData = str(inData)\n",
    "inData[ 0 : yearIndex]\n",
    "\n",
    "\n",
    "\n",
    "\n",
    "\n"
   ]
  },
  {
   "cell_type": "markdown",
   "metadata": {
    "id": "3UKNVLLQMXYi"
   },
   "source": []
  },
  {
   "cell_type": "code",
   "execution_count": null,
   "metadata": {
    "colab": {
     "base_uri": "https://localhost:8080/"
    },
    "id": "dIktSNIlYQ6y",
    "outputId": "8138130a-3c51-4302-f61d-0225dd15f7e6"
   },
   "outputs": [
    {
     "name": "stdout",
     "output_type": "stream",
     "text": [
      "Mounted at /content/drive\n"
     ]
    }
   ],
   "source": [
    "from google.colab import drive\n",
    "\n",
    "drive.mount(\"/content/drive\")"
   ]
  },
  {
   "cell_type": "code",
   "execution_count": null,
   "metadata": {
    "colab": {
     "base_uri": "https://localhost:8080/",
     "height": 318
    },
    "id": "WlxXhoT_YS-0",
    "outputId": "ae65d983-7b0c-433b-beda-e853ba803e9e"
   },
   "outputs": [
    {
     "ename": "FileNotFoundError",
     "evalue": "[Errno 2] No such file or directory: '/content/drive/MyDrive/stdcode24/dataset/customerdata.csv'",
     "output_type": "error",
     "traceback": [
      "\u001b[0;31m---------------------------------------------------------------------------\u001b[0m",
      "\u001b[0;31mFileNotFoundError\u001b[0m                         Traceback (most recent call last)",
      "\u001b[0;32m<ipython-input-4-c7a8d8502ef5>\u001b[0m in \u001b[0;36m<cell line: 2>\u001b[0;34m()\u001b[0m\n\u001b[1;32m      1\u001b[0m \u001b[0;32mimport\u001b[0m \u001b[0mpandas\u001b[0m \u001b[0;32mas\u001b[0m \u001b[0mpd\u001b[0m\u001b[0;34m\u001b[0m\u001b[0;34m\u001b[0m\u001b[0m\n\u001b[0;32m----> 2\u001b[0;31m \u001b[0mcsData\u001b[0m \u001b[0;34m=\u001b[0m  \u001b[0mpd\u001b[0m\u001b[0;34m.\u001b[0m\u001b[0mread_csv\u001b[0m\u001b[0;34m(\u001b[0m\u001b[0;34m\"/content/drive/MyDrive/stdcode24/dataset/customerdata.csv\"\u001b[0m\u001b[0;34m)\u001b[0m\u001b[0;34m\u001b[0m\u001b[0;34m\u001b[0m\u001b[0m\n\u001b[0m",
      "\u001b[0;32m/usr/local/lib/python3.10/dist-packages/pandas/util/_decorators.py\u001b[0m in \u001b[0;36mwrapper\u001b[0;34m(*args, **kwargs)\u001b[0m\n\u001b[1;32m    209\u001b[0m                 \u001b[0;32melse\u001b[0m\u001b[0;34m:\u001b[0m\u001b[0;34m\u001b[0m\u001b[0;34m\u001b[0m\u001b[0m\n\u001b[1;32m    210\u001b[0m                     \u001b[0mkwargs\u001b[0m\u001b[0;34m[\u001b[0m\u001b[0mnew_arg_name\u001b[0m\u001b[0;34m]\u001b[0m \u001b[0;34m=\u001b[0m \u001b[0mnew_arg_value\u001b[0m\u001b[0;34m\u001b[0m\u001b[0;34m\u001b[0m\u001b[0m\n\u001b[0;32m--> 211\u001b[0;31m             \u001b[0;32mreturn\u001b[0m \u001b[0mfunc\u001b[0m\u001b[0;34m(\u001b[0m\u001b[0;34m*\u001b[0m\u001b[0margs\u001b[0m\u001b[0;34m,\u001b[0m \u001b[0;34m**\u001b[0m\u001b[0mkwargs\u001b[0m\u001b[0;34m)\u001b[0m\u001b[0;34m\u001b[0m\u001b[0;34m\u001b[0m\u001b[0m\n\u001b[0m\u001b[1;32m    212\u001b[0m \u001b[0;34m\u001b[0m\u001b[0m\n\u001b[1;32m    213\u001b[0m         \u001b[0;32mreturn\u001b[0m \u001b[0mcast\u001b[0m\u001b[0;34m(\u001b[0m\u001b[0mF\u001b[0m\u001b[0;34m,\u001b[0m \u001b[0mwrapper\u001b[0m\u001b[0;34m)\u001b[0m\u001b[0;34m\u001b[0m\u001b[0;34m\u001b[0m\u001b[0m\n",
      "\u001b[0;32m/usr/local/lib/python3.10/dist-packages/pandas/util/_decorators.py\u001b[0m in \u001b[0;36mwrapper\u001b[0;34m(*args, **kwargs)\u001b[0m\n\u001b[1;32m    329\u001b[0m                     \u001b[0mstacklevel\u001b[0m\u001b[0;34m=\u001b[0m\u001b[0mfind_stack_level\u001b[0m\u001b[0;34m(\u001b[0m\u001b[0;34m)\u001b[0m\u001b[0;34m,\u001b[0m\u001b[0;34m\u001b[0m\u001b[0;34m\u001b[0m\u001b[0m\n\u001b[1;32m    330\u001b[0m                 )\n\u001b[0;32m--> 331\u001b[0;31m             \u001b[0;32mreturn\u001b[0m \u001b[0mfunc\u001b[0m\u001b[0;34m(\u001b[0m\u001b[0;34m*\u001b[0m\u001b[0margs\u001b[0m\u001b[0;34m,\u001b[0m \u001b[0;34m**\u001b[0m\u001b[0mkwargs\u001b[0m\u001b[0;34m)\u001b[0m\u001b[0;34m\u001b[0m\u001b[0;34m\u001b[0m\u001b[0m\n\u001b[0m\u001b[1;32m    332\u001b[0m \u001b[0;34m\u001b[0m\u001b[0m\n\u001b[1;32m    333\u001b[0m         \u001b[0;31m# error: \"Callable[[VarArg(Any), KwArg(Any)], Any]\" has no\u001b[0m\u001b[0;34m\u001b[0m\u001b[0;34m\u001b[0m\u001b[0m\n",
      "\u001b[0;32m/usr/local/lib/python3.10/dist-packages/pandas/io/parsers/readers.py\u001b[0m in \u001b[0;36mread_csv\u001b[0;34m(filepath_or_buffer, sep, delimiter, header, names, index_col, usecols, squeeze, prefix, mangle_dupe_cols, dtype, engine, converters, true_values, false_values, skipinitialspace, skiprows, skipfooter, nrows, na_values, keep_default_na, na_filter, verbose, skip_blank_lines, parse_dates, infer_datetime_format, keep_date_col, date_parser, dayfirst, cache_dates, iterator, chunksize, compression, thousands, decimal, lineterminator, quotechar, quoting, doublequote, escapechar, comment, encoding, encoding_errors, dialect, error_bad_lines, warn_bad_lines, on_bad_lines, delim_whitespace, low_memory, memory_map, float_precision, storage_options)\u001b[0m\n\u001b[1;32m    948\u001b[0m     \u001b[0mkwds\u001b[0m\u001b[0;34m.\u001b[0m\u001b[0mupdate\u001b[0m\u001b[0;34m(\u001b[0m\u001b[0mkwds_defaults\u001b[0m\u001b[0;34m)\u001b[0m\u001b[0;34m\u001b[0m\u001b[0;34m\u001b[0m\u001b[0m\n\u001b[1;32m    949\u001b[0m \u001b[0;34m\u001b[0m\u001b[0m\n\u001b[0;32m--> 950\u001b[0;31m     \u001b[0;32mreturn\u001b[0m \u001b[0m_read\u001b[0m\u001b[0;34m(\u001b[0m\u001b[0mfilepath_or_buffer\u001b[0m\u001b[0;34m,\u001b[0m \u001b[0mkwds\u001b[0m\u001b[0;34m)\u001b[0m\u001b[0;34m\u001b[0m\u001b[0;34m\u001b[0m\u001b[0m\n\u001b[0m\u001b[1;32m    951\u001b[0m \u001b[0;34m\u001b[0m\u001b[0m\n\u001b[1;32m    952\u001b[0m \u001b[0;34m\u001b[0m\u001b[0m\n",
      "\u001b[0;32m/usr/local/lib/python3.10/dist-packages/pandas/io/parsers/readers.py\u001b[0m in \u001b[0;36m_read\u001b[0;34m(filepath_or_buffer, kwds)\u001b[0m\n\u001b[1;32m    603\u001b[0m \u001b[0;34m\u001b[0m\u001b[0m\n\u001b[1;32m    604\u001b[0m     \u001b[0;31m# Create the parser.\u001b[0m\u001b[0;34m\u001b[0m\u001b[0;34m\u001b[0m\u001b[0m\n\u001b[0;32m--> 605\u001b[0;31m     \u001b[0mparser\u001b[0m \u001b[0;34m=\u001b[0m \u001b[0mTextFileReader\u001b[0m\u001b[0;34m(\u001b[0m\u001b[0mfilepath_or_buffer\u001b[0m\u001b[0;34m,\u001b[0m \u001b[0;34m**\u001b[0m\u001b[0mkwds\u001b[0m\u001b[0;34m)\u001b[0m\u001b[0;34m\u001b[0m\u001b[0;34m\u001b[0m\u001b[0m\n\u001b[0m\u001b[1;32m    606\u001b[0m \u001b[0;34m\u001b[0m\u001b[0m\n\u001b[1;32m    607\u001b[0m     \u001b[0;32mif\u001b[0m \u001b[0mchunksize\u001b[0m \u001b[0;32mor\u001b[0m \u001b[0miterator\u001b[0m\u001b[0;34m:\u001b[0m\u001b[0;34m\u001b[0m\u001b[0;34m\u001b[0m\u001b[0m\n",
      "\u001b[0;32m/usr/local/lib/python3.10/dist-packages/pandas/io/parsers/readers.py\u001b[0m in \u001b[0;36m__init__\u001b[0;34m(self, f, engine, **kwds)\u001b[0m\n\u001b[1;32m   1440\u001b[0m \u001b[0;34m\u001b[0m\u001b[0m\n\u001b[1;32m   1441\u001b[0m         \u001b[0mself\u001b[0m\u001b[0;34m.\u001b[0m\u001b[0mhandles\u001b[0m\u001b[0;34m:\u001b[0m \u001b[0mIOHandles\u001b[0m \u001b[0;34m|\u001b[0m \u001b[0;32mNone\u001b[0m \u001b[0;34m=\u001b[0m \u001b[0;32mNone\u001b[0m\u001b[0;34m\u001b[0m\u001b[0;34m\u001b[0m\u001b[0m\n\u001b[0;32m-> 1442\u001b[0;31m         \u001b[0mself\u001b[0m\u001b[0;34m.\u001b[0m\u001b[0m_engine\u001b[0m \u001b[0;34m=\u001b[0m \u001b[0mself\u001b[0m\u001b[0;34m.\u001b[0m\u001b[0m_make_engine\u001b[0m\u001b[0;34m(\u001b[0m\u001b[0mf\u001b[0m\u001b[0;34m,\u001b[0m \u001b[0mself\u001b[0m\u001b[0;34m.\u001b[0m\u001b[0mengine\u001b[0m\u001b[0;34m)\u001b[0m\u001b[0;34m\u001b[0m\u001b[0;34m\u001b[0m\u001b[0m\n\u001b[0m\u001b[1;32m   1443\u001b[0m \u001b[0;34m\u001b[0m\u001b[0m\n\u001b[1;32m   1444\u001b[0m     \u001b[0;32mdef\u001b[0m \u001b[0mclose\u001b[0m\u001b[0;34m(\u001b[0m\u001b[0mself\u001b[0m\u001b[0;34m)\u001b[0m \u001b[0;34m->\u001b[0m \u001b[0;32mNone\u001b[0m\u001b[0;34m:\u001b[0m\u001b[0;34m\u001b[0m\u001b[0;34m\u001b[0m\u001b[0m\n",
      "\u001b[0;32m/usr/local/lib/python3.10/dist-packages/pandas/io/parsers/readers.py\u001b[0m in \u001b[0;36m_make_engine\u001b[0;34m(self, f, engine)\u001b[0m\n\u001b[1;32m   1733\u001b[0m                 \u001b[0;32mif\u001b[0m \u001b[0;34m\"b\"\u001b[0m \u001b[0;32mnot\u001b[0m \u001b[0;32min\u001b[0m \u001b[0mmode\u001b[0m\u001b[0;34m:\u001b[0m\u001b[0;34m\u001b[0m\u001b[0;34m\u001b[0m\u001b[0m\n\u001b[1;32m   1734\u001b[0m                     \u001b[0mmode\u001b[0m \u001b[0;34m+=\u001b[0m \u001b[0;34m\"b\"\u001b[0m\u001b[0;34m\u001b[0m\u001b[0;34m\u001b[0m\u001b[0m\n\u001b[0;32m-> 1735\u001b[0;31m             self.handles = get_handle(\n\u001b[0m\u001b[1;32m   1736\u001b[0m                 \u001b[0mf\u001b[0m\u001b[0;34m,\u001b[0m\u001b[0;34m\u001b[0m\u001b[0;34m\u001b[0m\u001b[0m\n\u001b[1;32m   1737\u001b[0m                 \u001b[0mmode\u001b[0m\u001b[0;34m,\u001b[0m\u001b[0;34m\u001b[0m\u001b[0;34m\u001b[0m\u001b[0m\n",
      "\u001b[0;32m/usr/local/lib/python3.10/dist-packages/pandas/io/common.py\u001b[0m in \u001b[0;36mget_handle\u001b[0;34m(path_or_buf, mode, encoding, compression, memory_map, is_text, errors, storage_options)\u001b[0m\n\u001b[1;32m    854\u001b[0m         \u001b[0;32mif\u001b[0m \u001b[0mioargs\u001b[0m\u001b[0;34m.\u001b[0m\u001b[0mencoding\u001b[0m \u001b[0;32mand\u001b[0m \u001b[0;34m\"b\"\u001b[0m \u001b[0;32mnot\u001b[0m \u001b[0;32min\u001b[0m \u001b[0mioargs\u001b[0m\u001b[0;34m.\u001b[0m\u001b[0mmode\u001b[0m\u001b[0;34m:\u001b[0m\u001b[0;34m\u001b[0m\u001b[0;34m\u001b[0m\u001b[0m\n\u001b[1;32m    855\u001b[0m             \u001b[0;31m# Encoding\u001b[0m\u001b[0;34m\u001b[0m\u001b[0;34m\u001b[0m\u001b[0m\n\u001b[0;32m--> 856\u001b[0;31m             handle = open(\n\u001b[0m\u001b[1;32m    857\u001b[0m                 \u001b[0mhandle\u001b[0m\u001b[0;34m,\u001b[0m\u001b[0;34m\u001b[0m\u001b[0;34m\u001b[0m\u001b[0m\n\u001b[1;32m    858\u001b[0m                 \u001b[0mioargs\u001b[0m\u001b[0;34m.\u001b[0m\u001b[0mmode\u001b[0m\u001b[0;34m,\u001b[0m\u001b[0;34m\u001b[0m\u001b[0;34m\u001b[0m\u001b[0m\n",
      "\u001b[0;31mFileNotFoundError\u001b[0m: [Errno 2] No such file or directory: '/content/drive/MyDrive/stdcode24/dataset/customerdata.csv'"
     ]
    }
   ],
   "source": [
    "import pandas as pd\n",
    "csData =  pd.read_csv(\"/content/drive/MyDrive/stdcode24/dataset/customerdata.csv\")\n"
   ]
  },
  {
   "cell_type": "code",
   "execution_count": null,
   "metadata": {
    "colab": {
     "base_uri": "https://localhost:8080/",
     "height": 147
    },
    "id": "J2UWXdU-Y3ue",
    "outputId": "e4931155-144d-4317-9b3d-0cebfb92b7d7"
   },
   "outputs": [
    {
     "ename": "NameError",
     "evalue": "name 'pd' is not defined",
     "output_type": "error",
     "traceback": [
      "\u001b[0;31m---------------------------------------------------------------------------\u001b[0m",
      "\u001b[0;31mNameError\u001b[0m                                 Traceback (most recent call last)",
      "\u001b[0;32m<ipython-input-2-95de391f1868>\u001b[0m in \u001b[0;36m<cell line: 1>\u001b[0;34m()\u001b[0m\n\u001b[0;32m----> 1\u001b[0;31m \u001b[0mcsData\u001b[0m \u001b[0;34m=\u001b[0m  \u001b[0mpd\u001b[0m\u001b[0;34m.\u001b[0m\u001b[0mread_csv\u001b[0m\u001b[0;34m(\u001b[0m\u001b[0;34m\"/content/drive/MyDrive/stdcode24/dataset/customerdata.csv\"\u001b[0m\u001b[0;34m)\u001b[0m\u001b[0;34m\u001b[0m\u001b[0;34m\u001b[0m\u001b[0m\n\u001b[0m",
      "\u001b[0;31mNameError\u001b[0m: name 'pd' is not defined"
     ]
    }
   ],
   "source": [
    "csData =  pd.read_csv(\"/content/drive/MyDrive/stdcode24/dataset/customerdata.csv\")\n"
   ]
  },
  {
   "cell_type": "code",
   "execution_count": null,
   "metadata": {
    "colab": {
     "base_uri": "https://localhost:8080/"
    },
    "id": "xOcn-TALaRMj",
    "outputId": "778237ce-da71-4c86-829e-9d4f35d3b08c"
   },
   "outputs": [
    {
     "data": {
      "text/plain": [
       "4"
      ]
     },
     "execution_count": 72,
     "metadata": {},
     "output_type": "execute_result"
    }
   ],
   "source": [
    "scoreList = [10,5,6,9]\n",
    "len(scoreList)"
   ]
  },
  {
   "cell_type": "code",
   "execution_count": null,
   "metadata": {
    "colab": {
     "base_uri": "https://localhost:8080/"
    },
    "id": "LcO-VIqWaczH",
    "outputId": "3ffe095c-4eb8-4dd5-fccc-785b5a2e97e2"
   },
   "outputs": [
    {
     "name": "stdout",
     "output_type": "stream",
     "text": [
      "[5, 6, 9, 30, 30, 30, 30, 30]\n"
     ]
    }
   ],
   "source": [
    "newScore = 30\n",
    "scoreList.append(newScore)\n",
    "print(scoreList)\n",
    "maxValue = max(scoreList)\n",
    "scoreList.remove(30)\n"
   ]
  },
  {
   "cell_type": "markdown",
   "metadata": {
    "id": "vGC00HCwbTdh"
   },
   "source": [
    "#집합 (가장 큰값, 가장 작은값, 합, 길이)"
   ]
  },
  {
   "cell_type": "code",
   "execution_count": null,
   "metadata": {
    "id": "aFkI9A5_blnV"
   },
   "outputs": [],
   "source": [
    "#리스트 길이\n",
    "scoreListLen = len(scoreList)\n",
    "scoreListLen\n",
    "#리스트 합\n",
    "scoreListSum = sum(scoreList)\n",
    "scoreListSum\n",
    "#리스트 최대값\n",
    "scoreListMax = max(ddd)\n",
    "scoreListMax\n",
    "\n",
    "#리스트 최솟값\n",
    "scoreListMin = min(scoreList)\n",
    "scoreListMin"
   ]
  },
  {
   "cell_type": "code",
   "execution_count": null,
   "metadata": {
    "colab": {
     "base_uri": "https://localhost:8080/"
    },
    "id": "ikNH6Dkrb8t9",
    "outputId": "8aee40df-92e8-4b30-f191-59cb57ae480c"
   },
   "outputs": [
    {
     "name": "stdout",
     "output_type": "stream",
     "text": [
      "75.0\n",
      "최소값 60 최대값 90\n"
     ]
    }
   ],
   "source": [
    "#### scoreList = [50,60,70,80,90,100]\n",
    "### 최소값과 최대값을 제외한 평균을 계산하시오\n",
    "scoreList = [50,60,70,80,90,100]\n",
    "# 최대값\n",
    "scoreListMax = max(scoreList)\n",
    "scoreList.remove(scoreListMax)\n",
    "# 최솟값\n",
    "scoreListMin = min(scoreList)\n",
    "scoreList.remove(scoreListMin)\n",
    "#평균\n",
    "scoreListAvg = sum(scoreList) / len(scoreList)\n",
    "print(scoreListAvg)\n",
    "\n",
    "\n",
    "###절사평균 ~!! 적용해서~!! 최소값/ 최대값을 제외한 평균\n",
    "### Stepp1. 전체 데이터의 최소/최대 값을 구한다.\n",
    "minValue = min(scoreList)\n",
    "maxValue = max(scoreList)\n",
    "print(f\"최소값 {minValue} 최대값 {maxValue}\")\n",
    "### Step2. 최소 최대값을 삭제한다.\n",
    "### Step3: 남은 데이터의 평균을 구한다. 평균: 합(리스트) /길이(리스트)\n"
   ]
  },
  {
   "cell_type": "code",
   "execution_count": null,
   "metadata": {
    "colab": {
     "base_uri": "https://localhost:8080/"
    },
    "id": "Ay5SDuiAd_dR",
    "outputId": "2f87faaf-0dfc-460d-c4fc-71a2c885e712"
   },
   "outputs": [
    {
     "name": "stdout",
     "output_type": "stream",
     "text": [
      "[50, 60, 70, 80, 90, 100]\n"
     ]
    }
   ],
   "source": [
    " scoreList = [50,60,70,80,90,100,100]\n",
    " scoreList.remove(100)\n",
    " print(scoreList)"
   ]
  },
  {
   "cell_type": "code",
   "execution_count": null,
   "metadata": {
    "colab": {
     "base_uri": "https://localhost:8080/"
    },
    "id": "9xIrlAm7gf3l",
    "outputId": "8fcf14f4-ea11-4935-d7f3-8c6bcca27b5e"
   },
   "outputs": [
    {
     "name": "stdout",
     "output_type": "stream",
     "text": [
      "[50, 60, 70, 80, 90, 100, 100]\n",
      "[50, 60, 70, 80, 90, 100, 100]\n",
      "[100, 100, 90, 80, 70, 60, 50]\n"
     ]
    }
   ],
   "source": [
    "scoreList = [100,50,60,70,80,90,100]\n",
    "scoreList.sort()\n",
    "print(scoreList)\n",
    "\n",
    "scoreList = [100,50,60,70,80,90,100]\n",
    "scoreList.sort(reverse=False)\n",
    "print(scoreList)\n",
    "\n",
    "scoreList = [100,50,60,70,80,90,100]\n",
    "scoreList.sort(reverse=True)\n",
    "print(scoreList)\n",
    "\n"
   ]
  },
  {
   "cell_type": "code",
   "execution_count": null,
   "metadata": {
    "colab": {
     "base_uri": "https://localhost:8080/",
     "height": 35
    },
    "id": "POphmUtKi2CB",
    "outputId": "fa50305b-7ac4-4c47-dedf-358f80812b28"
   },
   "outputs": [
    {
     "data": {
      "application/vnd.google.colaboratory.intrinsic+json": {
       "type": "string"
      },
      "text/plain": [
       "'apple_banana_orange'"
      ]
     },
     "execution_count": 119,
     "metadata": {},
     "output_type": "execute_result"
    }
   ],
   "source": [
    "\n",
    "myList = ['apple','banana','orange']\n",
    "resultString = '_'.join(myList)\n",
    "resultString\n"
   ]
  },
  {
   "cell_type": "code",
   "execution_count": null,
   "metadata": {
    "colab": {
     "base_uri": "https://localhost:8080/",
     "height": 373
    },
    "id": "qiH8MEtUlh6v",
    "outputId": "3894a022-4ccb-4d16-c991-360c645ea48c"
   },
   "outputs": [
    {
     "ename": "FileNotFoundError",
     "evalue": "[Errno 2] No such file or directory: '../dataset/kopo_customerdata.csv'",
     "output_type": "error",
     "traceback": [
      "\u001b[0;31m---------------------------------------------------------------------------\u001b[0m",
      "\u001b[0;31mFileNotFoundError\u001b[0m                         Traceback (most recent call last)",
      "\u001b[0;32m<ipython-input-5-fe72edfb4b2c>\u001b[0m in \u001b[0;36m<cell line: 7>\u001b[0;34m()\u001b[0m\n\u001b[1;32m      5\u001b[0m \u001b[0;31m### 1. 데이터 불러오기\u001b[0m\u001b[0;34m\u001b[0m\u001b[0;34m\u001b[0m\u001b[0m\n\u001b[1;32m      6\u001b[0m \u001b[0;34m\u001b[0m\u001b[0m\n\u001b[0;32m----> 7\u001b[0;31m \u001b[0mcsData\u001b[0m \u001b[0;34m=\u001b[0m  \u001b[0mpd\u001b[0m\u001b[0;34m.\u001b[0m\u001b[0mread_csv\u001b[0m\u001b[0;34m(\u001b[0m\u001b[0;34m\"../dataset/kopo_customerdata.csv\"\u001b[0m\u001b[0;34m)\u001b[0m\u001b[0;34m\u001b[0m\u001b[0;34m\u001b[0m\u001b[0m\n\u001b[0m\u001b[1;32m      8\u001b[0m \u001b[0;34m\u001b[0m\u001b[0m\n\u001b[1;32m      9\u001b[0m \u001b[0;31m### 2. TOTAL_AMOUNT 컬럼 내 최소,최대값을 모두 삭제한 평균을 구하시오\u001b[0m\u001b[0;34m\u001b[0m\u001b[0;34m\u001b[0m\u001b[0m\n",
      "\u001b[0;32m/usr/local/lib/python3.10/dist-packages/pandas/util/_decorators.py\u001b[0m in \u001b[0;36mwrapper\u001b[0;34m(*args, **kwargs)\u001b[0m\n\u001b[1;32m    209\u001b[0m                 \u001b[0;32melse\u001b[0m\u001b[0;34m:\u001b[0m\u001b[0;34m\u001b[0m\u001b[0;34m\u001b[0m\u001b[0m\n\u001b[1;32m    210\u001b[0m                     \u001b[0mkwargs\u001b[0m\u001b[0;34m[\u001b[0m\u001b[0mnew_arg_name\u001b[0m\u001b[0;34m]\u001b[0m \u001b[0;34m=\u001b[0m \u001b[0mnew_arg_value\u001b[0m\u001b[0;34m\u001b[0m\u001b[0;34m\u001b[0m\u001b[0m\n\u001b[0;32m--> 211\u001b[0;31m             \u001b[0;32mreturn\u001b[0m \u001b[0mfunc\u001b[0m\u001b[0;34m(\u001b[0m\u001b[0;34m*\u001b[0m\u001b[0margs\u001b[0m\u001b[0;34m,\u001b[0m \u001b[0;34m**\u001b[0m\u001b[0mkwargs\u001b[0m\u001b[0;34m)\u001b[0m\u001b[0;34m\u001b[0m\u001b[0;34m\u001b[0m\u001b[0m\n\u001b[0m\u001b[1;32m    212\u001b[0m \u001b[0;34m\u001b[0m\u001b[0m\n\u001b[1;32m    213\u001b[0m         \u001b[0;32mreturn\u001b[0m \u001b[0mcast\u001b[0m\u001b[0;34m(\u001b[0m\u001b[0mF\u001b[0m\u001b[0;34m,\u001b[0m \u001b[0mwrapper\u001b[0m\u001b[0;34m)\u001b[0m\u001b[0;34m\u001b[0m\u001b[0;34m\u001b[0m\u001b[0m\n",
      "\u001b[0;32m/usr/local/lib/python3.10/dist-packages/pandas/util/_decorators.py\u001b[0m in \u001b[0;36mwrapper\u001b[0;34m(*args, **kwargs)\u001b[0m\n\u001b[1;32m    329\u001b[0m                     \u001b[0mstacklevel\u001b[0m\u001b[0;34m=\u001b[0m\u001b[0mfind_stack_level\u001b[0m\u001b[0;34m(\u001b[0m\u001b[0;34m)\u001b[0m\u001b[0;34m,\u001b[0m\u001b[0;34m\u001b[0m\u001b[0;34m\u001b[0m\u001b[0m\n\u001b[1;32m    330\u001b[0m                 )\n\u001b[0;32m--> 331\u001b[0;31m             \u001b[0;32mreturn\u001b[0m \u001b[0mfunc\u001b[0m\u001b[0;34m(\u001b[0m\u001b[0;34m*\u001b[0m\u001b[0margs\u001b[0m\u001b[0;34m,\u001b[0m \u001b[0;34m**\u001b[0m\u001b[0mkwargs\u001b[0m\u001b[0;34m)\u001b[0m\u001b[0;34m\u001b[0m\u001b[0;34m\u001b[0m\u001b[0m\n\u001b[0m\u001b[1;32m    332\u001b[0m \u001b[0;34m\u001b[0m\u001b[0m\n\u001b[1;32m    333\u001b[0m         \u001b[0;31m# error: \"Callable[[VarArg(Any), KwArg(Any)], Any]\" has no\u001b[0m\u001b[0;34m\u001b[0m\u001b[0;34m\u001b[0m\u001b[0m\n",
      "\u001b[0;32m/usr/local/lib/python3.10/dist-packages/pandas/io/parsers/readers.py\u001b[0m in \u001b[0;36mread_csv\u001b[0;34m(filepath_or_buffer, sep, delimiter, header, names, index_col, usecols, squeeze, prefix, mangle_dupe_cols, dtype, engine, converters, true_values, false_values, skipinitialspace, skiprows, skipfooter, nrows, na_values, keep_default_na, na_filter, verbose, skip_blank_lines, parse_dates, infer_datetime_format, keep_date_col, date_parser, dayfirst, cache_dates, iterator, chunksize, compression, thousands, decimal, lineterminator, quotechar, quoting, doublequote, escapechar, comment, encoding, encoding_errors, dialect, error_bad_lines, warn_bad_lines, on_bad_lines, delim_whitespace, low_memory, memory_map, float_precision, storage_options)\u001b[0m\n\u001b[1;32m    948\u001b[0m     \u001b[0mkwds\u001b[0m\u001b[0;34m.\u001b[0m\u001b[0mupdate\u001b[0m\u001b[0;34m(\u001b[0m\u001b[0mkwds_defaults\u001b[0m\u001b[0;34m)\u001b[0m\u001b[0;34m\u001b[0m\u001b[0;34m\u001b[0m\u001b[0m\n\u001b[1;32m    949\u001b[0m \u001b[0;34m\u001b[0m\u001b[0m\n\u001b[0;32m--> 950\u001b[0;31m     \u001b[0;32mreturn\u001b[0m \u001b[0m_read\u001b[0m\u001b[0;34m(\u001b[0m\u001b[0mfilepath_or_buffer\u001b[0m\u001b[0;34m,\u001b[0m \u001b[0mkwds\u001b[0m\u001b[0;34m)\u001b[0m\u001b[0;34m\u001b[0m\u001b[0;34m\u001b[0m\u001b[0m\n\u001b[0m\u001b[1;32m    951\u001b[0m \u001b[0;34m\u001b[0m\u001b[0m\n\u001b[1;32m    952\u001b[0m \u001b[0;34m\u001b[0m\u001b[0m\n",
      "\u001b[0;32m/usr/local/lib/python3.10/dist-packages/pandas/io/parsers/readers.py\u001b[0m in \u001b[0;36m_read\u001b[0;34m(filepath_or_buffer, kwds)\u001b[0m\n\u001b[1;32m    603\u001b[0m \u001b[0;34m\u001b[0m\u001b[0m\n\u001b[1;32m    604\u001b[0m     \u001b[0;31m# Create the parser.\u001b[0m\u001b[0;34m\u001b[0m\u001b[0;34m\u001b[0m\u001b[0m\n\u001b[0;32m--> 605\u001b[0;31m     \u001b[0mparser\u001b[0m \u001b[0;34m=\u001b[0m \u001b[0mTextFileReader\u001b[0m\u001b[0;34m(\u001b[0m\u001b[0mfilepath_or_buffer\u001b[0m\u001b[0;34m,\u001b[0m \u001b[0;34m**\u001b[0m\u001b[0mkwds\u001b[0m\u001b[0;34m)\u001b[0m\u001b[0;34m\u001b[0m\u001b[0;34m\u001b[0m\u001b[0m\n\u001b[0m\u001b[1;32m    606\u001b[0m \u001b[0;34m\u001b[0m\u001b[0m\n\u001b[1;32m    607\u001b[0m     \u001b[0;32mif\u001b[0m \u001b[0mchunksize\u001b[0m \u001b[0;32mor\u001b[0m \u001b[0miterator\u001b[0m\u001b[0;34m:\u001b[0m\u001b[0;34m\u001b[0m\u001b[0;34m\u001b[0m\u001b[0m\n",
      "\u001b[0;32m/usr/local/lib/python3.10/dist-packages/pandas/io/parsers/readers.py\u001b[0m in \u001b[0;36m__init__\u001b[0;34m(self, f, engine, **kwds)\u001b[0m\n\u001b[1;32m   1440\u001b[0m \u001b[0;34m\u001b[0m\u001b[0m\n\u001b[1;32m   1441\u001b[0m         \u001b[0mself\u001b[0m\u001b[0;34m.\u001b[0m\u001b[0mhandles\u001b[0m\u001b[0;34m:\u001b[0m \u001b[0mIOHandles\u001b[0m \u001b[0;34m|\u001b[0m \u001b[0;32mNone\u001b[0m \u001b[0;34m=\u001b[0m \u001b[0;32mNone\u001b[0m\u001b[0;34m\u001b[0m\u001b[0;34m\u001b[0m\u001b[0m\n\u001b[0;32m-> 1442\u001b[0;31m         \u001b[0mself\u001b[0m\u001b[0;34m.\u001b[0m\u001b[0m_engine\u001b[0m \u001b[0;34m=\u001b[0m \u001b[0mself\u001b[0m\u001b[0;34m.\u001b[0m\u001b[0m_make_engine\u001b[0m\u001b[0;34m(\u001b[0m\u001b[0mf\u001b[0m\u001b[0;34m,\u001b[0m \u001b[0mself\u001b[0m\u001b[0;34m.\u001b[0m\u001b[0mengine\u001b[0m\u001b[0;34m)\u001b[0m\u001b[0;34m\u001b[0m\u001b[0;34m\u001b[0m\u001b[0m\n\u001b[0m\u001b[1;32m   1443\u001b[0m \u001b[0;34m\u001b[0m\u001b[0m\n\u001b[1;32m   1444\u001b[0m     \u001b[0;32mdef\u001b[0m \u001b[0mclose\u001b[0m\u001b[0;34m(\u001b[0m\u001b[0mself\u001b[0m\u001b[0;34m)\u001b[0m \u001b[0;34m->\u001b[0m \u001b[0;32mNone\u001b[0m\u001b[0;34m:\u001b[0m\u001b[0;34m\u001b[0m\u001b[0;34m\u001b[0m\u001b[0m\n",
      "\u001b[0;32m/usr/local/lib/python3.10/dist-packages/pandas/io/parsers/readers.py\u001b[0m in \u001b[0;36m_make_engine\u001b[0;34m(self, f, engine)\u001b[0m\n\u001b[1;32m   1733\u001b[0m                 \u001b[0;32mif\u001b[0m \u001b[0;34m\"b\"\u001b[0m \u001b[0;32mnot\u001b[0m \u001b[0;32min\u001b[0m \u001b[0mmode\u001b[0m\u001b[0;34m:\u001b[0m\u001b[0;34m\u001b[0m\u001b[0;34m\u001b[0m\u001b[0m\n\u001b[1;32m   1734\u001b[0m                     \u001b[0mmode\u001b[0m \u001b[0;34m+=\u001b[0m \u001b[0;34m\"b\"\u001b[0m\u001b[0;34m\u001b[0m\u001b[0;34m\u001b[0m\u001b[0m\n\u001b[0;32m-> 1735\u001b[0;31m             self.handles = get_handle(\n\u001b[0m\u001b[1;32m   1736\u001b[0m                 \u001b[0mf\u001b[0m\u001b[0;34m,\u001b[0m\u001b[0;34m\u001b[0m\u001b[0;34m\u001b[0m\u001b[0m\n\u001b[1;32m   1737\u001b[0m                 \u001b[0mmode\u001b[0m\u001b[0;34m,\u001b[0m\u001b[0;34m\u001b[0m\u001b[0;34m\u001b[0m\u001b[0m\n",
      "\u001b[0;32m/usr/local/lib/python3.10/dist-packages/pandas/io/common.py\u001b[0m in \u001b[0;36mget_handle\u001b[0;34m(path_or_buf, mode, encoding, compression, memory_map, is_text, errors, storage_options)\u001b[0m\n\u001b[1;32m    854\u001b[0m         \u001b[0;32mif\u001b[0m \u001b[0mioargs\u001b[0m\u001b[0;34m.\u001b[0m\u001b[0mencoding\u001b[0m \u001b[0;32mand\u001b[0m \u001b[0;34m\"b\"\u001b[0m \u001b[0;32mnot\u001b[0m \u001b[0;32min\u001b[0m \u001b[0mioargs\u001b[0m\u001b[0;34m.\u001b[0m\u001b[0mmode\u001b[0m\u001b[0;34m:\u001b[0m\u001b[0;34m\u001b[0m\u001b[0;34m\u001b[0m\u001b[0m\n\u001b[1;32m    855\u001b[0m             \u001b[0;31m# Encoding\u001b[0m\u001b[0;34m\u001b[0m\u001b[0;34m\u001b[0m\u001b[0m\n\u001b[0;32m--> 856\u001b[0;31m             handle = open(\n\u001b[0m\u001b[1;32m    857\u001b[0m                 \u001b[0mhandle\u001b[0m\u001b[0;34m,\u001b[0m\u001b[0;34m\u001b[0m\u001b[0;34m\u001b[0m\u001b[0m\n\u001b[1;32m    858\u001b[0m                 \u001b[0mioargs\u001b[0m\u001b[0;34m.\u001b[0m\u001b[0mmode\u001b[0m\u001b[0;34m,\u001b[0m\u001b[0;34m\u001b[0m\u001b[0;34m\u001b[0m\u001b[0m\n",
      "\u001b[0;31mFileNotFoundError\u001b[0m: [Errno 2] No such file or directory: '../dataset/kopo_customerdata.csv'"
     ]
    }
   ],
   "source": [
    "# 수, 문자, 리스트\n",
    "\n",
    "# import pandas as pd\n",
    "\n",
    "### 1. 데이터 불러오기\n",
    "\n",
    "csData =  pd.read_csv(\"../dataset/kopo_customerdata.csv\")\n",
    "\n",
    "### 2. TOTAL_AMOUNT 컬럼 내 최소,최대값을 모두 삭제한 평균을 구하시오\n",
    "amountList = [1,2,3]\n",
    "arrayListSum = sum(amountList)\n",
    "\n",
    "### 3. 평균 산출\n",
    "\n",
    "\n"
   ]
  },
  {
   "cell_type": "code",
   "execution_count": null,
   "metadata": {
    "colab": {
     "base_uri": "https://localhost:8080/"
    },
    "id": "Ei13Do8uk_I2",
    "outputId": "51de3b78-038f-4de7-bb8f-9ad5489a94c2"
   },
   "outputs": [
    {
     "name": "stdout",
     "output_type": "stream",
     "text": [
      "\n",
      "*\n",
      "**\n",
      "***\n",
      "****\n"
     ]
    }
   ],
   "source": [
    "num = 5\n",
    "for i in range(5){\n",
    "  for j in range(i){\n",
    "    print(\"*\",end=\"\")\n",
    "  }\n",
    "  print()\n",
    "}"
   ]
  },
  {
   "cell_type": "code",
   "execution_count": null,
   "metadata": {
    "colab": {
     "base_uri": "https://localhost:8080/"
    },
    "id": "RBwyaPnysKR1",
    "outputId": "4892d10b-acf2-4bc4-db91-561c15635a30"
   },
   "outputs": [
    {
     "data": {
      "text/plain": [
       "3"
      ]
     },
     "execution_count": 3,
     "metadata": {},
     "output_type": "execute_result"
    }
   ],
   "source": [
    "str = \"7070$$70\"\n",
    "str.count('70')"
   ]
  },
  {
   "cell_type": "code",
   "execution_count": null,
   "metadata": {
    "colab": {
     "base_uri": "https://localhost:8080/"
    },
    "id": "3YMsAHWmtYcs",
    "outputId": "071472f6-b5ce-41a3-ab6f-847a5651e06c"
   },
   "outputs": [
    {
     "name": "stdout",
     "output_type": "stream",
     "text": [
      "[30, 40, 50, 100]\n"
     ]
    }
   ],
   "source": [
    "scoreList = [30,40,50,100,100]\n",
    "scoreList.remove(max(scoreList))\n",
    "print(scoreList)"
   ]
  },
  {
   "cell_type": "code",
   "execution_count": null,
   "metadata": {
    "id": "gPJVST3hLSIt"
   },
   "outputs": [],
   "source": [
    "##  데이터를 불러온다\n",
    "##"
   ]
  },
  {
   "cell_type": "code",
   "execution_count": null,
   "metadata": {
    "id": "B2yXLsNAcRl9"
   },
   "outputs": [],
   "source": [
    "from google.colab import drive\\\n",
    "drive.mount(\"/content/gdrive\")"
   ]
  },
  {
   "cell_type": "code",
   "execution_count": null,
   "metadata": {
    "id": "HcIMQfJ8cWzg"
   },
   "outputs": [],
   "source": []
  },
  {
   "cell_type": "code",
   "execution_count": null,
   "metadata": {
    "id": "SXP7Ja0wcrAm"
   },
   "outputs": [],
   "source": [
    "import pandas as pd"
   ]
  },
  {
   "cell_type": "code",
   "execution_count": null,
   "metadata": {
    "colab": {
     "base_uri": "https://localhost:8080/",
     "height": 35
    },
    "id": "WW36Lux5cvFq",
    "outputId": "83e2de67-fc16-4f55-9378-0e4a79f47e81"
   },
   "outputs": [
    {
     "data": {
      "application/vnd.google.colaboratory.intrinsic+json": {
       "type": "string"
      },
      "text/plain": [
       "'/content'"
      ]
     },
     "execution_count": 13,
     "metadata": {},
     "output_type": "execute_result"
    }
   ],
   "source": [
    "pwd"
   ]
  },
  {
   "cell_type": "code",
   "execution_count": null,
   "metadata": {
    "colab": {
     "base_uri": "https://localhost:8080/"
    },
    "id": "3AzRQV12dI0N",
    "outputId": "a069d048-139f-4f77-af12-430c558e443c"
   },
   "outputs": [
    {
     "name": "stdout",
     "output_type": "stream",
     "text": [
      "/content/gdrive/MyDrive/stdcode24/Session02 - 파이썬 기초 다지기\n",
      "total 121\n",
      "-rw------- 1 root root 33024 Mar 17 15:31 '01. 자료형.ipynb'\n",
      "-rw------- 1 root root 40940 Mar 17 15:31 '02. 파이썬 라이브러리 설치하기.ipynb'\n",
      "-rw------- 1 root root 45017 Mar 17 15:31 '03. 파이썬 핵심문법.ipynb'\n",
      "drwx------ 2 root root  4096 Mar 18 00:32  \u001b[0m\u001b[01;34m.ipynb_checkpoints\u001b[0m/\n",
      "-rw------- 1 root root   324 Mar 20 01:19  Untitled0.ipynb\n"
     ]
    }
   ],
   "source": [
    "%cd /content/gdrive/MyDrive/stdcode24/\n"
   ]
  },
  {
   "cell_type": "code",
   "execution_count": null,
   "metadata": {
    "id": "lgnvrj4BI4Ps"
   },
   "outputs": [],
   "source": [
    "import pandas as pd\n",
    "customerData = pd.read_csv(\"../dataset/kopo_customerdata.csv\")\n",
    "customerTotalList = customerData[\"TOTAL_AMOUNT\"].tolist()\n",
    "array= customerTotalList.sort()\n"
   ]
  },
  {
   "cell_type": "code",
   "execution_count": null,
   "metadata": {
    "id": "uziAf3bBabtE"
   },
   "outputs": [],
   "source": []
  },
  {
   "cell_type": "code",
   "execution_count": null,
   "metadata": {
    "colab": {
     "base_uri": "https://localhost:8080/"
    },
    "id": "xfCzYbHSh1eI",
    "outputId": "91c722ee-c2ad-44c4-9974-7129e0eba649"
   },
   "outputs": [
    {
     "name": "stdout",
     "output_type": "stream",
     "text": [
      "total 91\n",
      "drwx------ 2 root root  4096 Mar 18 00:32  \u001b[0m\u001b[01;34mdataset\u001b[0m/\n",
      "drwx------ 2 root root  4096 Mar 18 00:32  \u001b[01;34mdataset_llama\u001b[0m/\n",
      "drwx------ 2 root root  4096 Mar 18 00:32  \u001b[01;34mimages\u001b[0m/\n",
      "drwx------ 2 root root  4096 Mar 20 01:26  \u001b[01;34m.ipynb_checkpoints\u001b[0m/\n",
      "drwx------ 2 root root  4096 Mar 20 01:26  \u001b[01;34mSession01_파이썬기초\u001b[0m/\n",
      "drwx------ 3 root root  4096 Mar 18 00:32 \u001b[01;34m'Session02 - 파이썬 기초 다지기'\u001b[0m/\n",
      "drwx------ 2 root root  4096 Mar 18 00:32 \u001b[01;34m'Session03 - 데이터베이스의 이해 및 ETL 실습'\u001b[0m\u001b[K/\n",
      "drwx------ 2 root root  4096 Mar 18 00:32 \u001b[01;34m'Session04 - 외부연동 데이터 수집'\u001b[0m/\n",
      "drwx------ 2 root root  4096 Mar 18 00:32 \u001b[01;34m'Session05 - 데이터 분석 및 데이터 전처리'\u001b[0m\u001b[K/\n",
      "drwx------ 2 root root  4096 Mar 18 00:32 \u001b[01;34m'Session06 - 파이썬 라이브러리 활용'\u001b[0m\u001b[K/\n",
      "drwx------ 2 root root  4096 Mar 18 00:32 \u001b[01;34m'Session07 - 유형별로 실습하는 머신러닝'\u001b[0m\u001b[K/\n",
      "-rw------- 1 root root 48018 Mar 20 01:48  자료형_수_문자_리스트.ipynb\n"
     ]
    }
   ],
   "source": [
    "ls -al"
   ]
  },
  {
   "cell_type": "code",
   "execution_count": null,
   "metadata": {
    "colab": {
     "base_uri": "https://localhost:8080/"
    },
    "id": "h4QwDGimhpbu",
    "outputId": "5826babf-153f-4a42-e7a4-6c6d79405d46"
   },
   "outputs": [
    {
     "name": "stdout",
     "output_type": "stream",
     "text": [
      "/content/gdrive/MyDrive/stdcode24/Session01_파이썬기초\n"
     ]
    }
   ],
   "source": [
    "%cd Session01_파이썬기초"
   ]
  },
  {
   "cell_type": "code",
   "execution_count": null,
   "metadata": {
    "colab": {
     "base_uri": "https://localhost:8080/"
    },
    "id": "tj8RET8Pt-7K",
    "outputId": "25308c2a-bcff-46b9-e684-bf9e77483c04"
   },
   "outputs": [
    {
     "data": {
      "text/plain": [
       "['LEDTV_UN001', 'LEDTV_UN002', 'LEDTV_UN003']"
      ]
     },
     "execution_count": 51,
     "metadata": {},
     "output_type": "execute_result"
    }
   ],
   "source": [
    "tvList = [\"UN001\",\"UN002\",\"UN003\"]\n",
    "preFix = \"LEDTV_\"\n",
    "\n",
    "tvList[0] = preFix + tvList[0]\n",
    "tvList[1] = preFix + tvList[1]\n",
    "tvList[2] = preFix + tvList[2]\n",
    "tvList\n",
    "\n",
    "\n"
   ]
  },
  {
   "cell_type": "code",
   "execution_count": null,
   "metadata": {
    "colab": {
     "base_uri": "https://localhost:8080/"
    },
    "id": "vz4EvXMlu8JI",
    "outputId": "2d6cbc36-0062-4d9c-81e7-612ad5a19170"
   },
   "outputs": [
    {
     "data": {
      "text/plain": [
       "['QLEDTV_UN001', 'QLEDTV_UN002', 'QLEDTV_UN003']"
      ]
     },
     "execution_count": 63,
     "metadata": {},
     "output_type": "execute_result"
    }
   ],
   "source": [
    "##배열갯수가 늘어나면 한계가 있음\n",
    "tvList2 = [\"UN001\",\"UN002\",\"UN003\"]\n",
    "preFix = \"QLEDTV_\"\n",
    "\n",
    "for i in range(len(tvList2)):\n",
    "  tvList2[i] = preFix + tvList2[i]\n",
    "\n",
    "tvList2"
   ]
  },
  {
   "cell_type": "code",
   "execution_count": null,
   "metadata": {
    "id": "8pXwFAWxwxGr"
   },
   "outputs": [],
   "source": []
  },
  {
   "cell_type": "code",
   "execution_count": null,
   "metadata": {
    "colab": {
     "base_uri": "https://localhost:8080/"
    },
    "id": "KpOVM9ggw27q",
    "outputId": "7ba99c21-6b41-4fb0-89df-cbb469df2258"
   },
   "outputs": [
    {
     "data": {
      "text/plain": [
       "['QLEDTV_UN001', 'QLEDTV_UN002', 'QLEDTV_UN003']"
      ]
     },
     "execution_count": 66,
     "metadata": {},
     "output_type": "execute_result"
    }
   ],
   "source": [
    "tvList = [\"UN001\",\"UN002\",\"UN003\"]\n",
    "index = 0\n",
    "while(index < len(tvList2)):\n",
    "  tvList[index] = preFix + tvList[index]\n",
    "  index = index + 1\n",
    "tvList"
   ]
  },
  {
   "cell_type": "code",
   "execution_count": null,
   "metadata": {
    "colab": {
     "base_uri": "https://localhost:8080/"
    },
    "id": "6n7OP1okxOZN",
    "outputId": "1d00caec-85e0-4971-f8ff-7a3a24449810"
   },
   "outputs": [
    {
     "name": "stdout",
     "output_type": "stream",
     "text": [
      "UN001\n",
      "UN002\n",
      "UN003\n",
      "UN005\n",
      "QLEDTV_UN001\n",
      "QLEDTV_UN002\n",
      "QLEDTV_UN003\n"
     ]
    }
   ],
   "source": [
    "tvList = [\"UN001\",\"UN002\",\"UN003\",\"UN005\"]\n",
    "index = 0\n",
    "while(index < len(tvList)):\n",
    "    print(tvList[index])\n",
    "    index = index + 1\n",
    "\n",
    "\n",
    "tvList = [\"UN001\",\"UN002\",\"UN003\",\"UN005\"]\n",
    "index = 0\n",
    "\n",
    "for i in range(len(tvList2)):\n",
    "  print(tvList2[i])\n",
    "\n",
    "\n",
    "\n"
   ]
  },
  {
   "cell_type": "code",
   "execution_count": null,
   "metadata": {
    "colab": {
     "base_uri": "https://localhost:8080/",
     "height": 35
    },
    "id": "GjSczva21nxz",
    "outputId": "caf305ae-11b5-4335-fd57-a11a86c38c0d"
   },
   "outputs": [
    {
     "data": {
      "application/vnd.google.colaboratory.intrinsic+json": {
       "type": "string"
      },
      "text/plain": [
       "'LEDTV_UN40S001'"
      ]
     },
     "execution_count": 77,
     "metadata": {},
     "output_type": "execute_result"
    }
   ],
   "source": [
    "targetTvModel = \"ledtv_UN40S001\"\n",
    "preFix = \"LEDTV_\"\n",
    "targetTvModel = targetTvModel.upper()\n",
    "## 모델 내 preFix가 있으면 붙이고 없으면 pass 없으면 붙여라\n",
    "if targetTvModel.count(preFix) >= 1:\n",
    "  pass\n",
    "else:\n",
    "  targetTvModel = preFix + targetTvModel\n",
    "ㄲ\n",
    "targetTvModel\n"
   ]
  },
  {
   "cell_type": "code",
   "execution_count": null,
   "metadata": {
    "id": "0Js_PaYR4Hyi"
   },
   "outputs": [],
   "source": [
    "tvList = [\"LEDTV_UN40S001\",\"LEDTV_UN40S0002\",\"UN40S0\"]\n",
    "tvListLen = len(tvList)\n",
    "preFix = \"LEDTV_\""
   ]
  },
  {
   "cell_type": "code",
   "execution_count": null,
   "metadata": {
    "id": "Z1N1Mvpa4CqO"
   },
   "outputs": [],
   "source": []
  },
  {
   "cell_type": "code",
   "execution_count": null,
   "metadata": {
    "id": "0-S8FteC2zt6"
   },
   "outputs": [],
   "source": [
    "\n",
    "\n",
    "#반복할 아이템중에 하나를 추출한다.\n",
    "\n",
    "preFix = \"LEDTV_\""
   ]
  },
  {
   "cell_type": "code",
   "execution_count": null,
   "metadata": {
    "colab": {
     "base_uri": "https://localhost:8080/"
    },
    "id": "9s3eA-043Cdg",
    "outputId": "5dbbf8b3-9438-4b19-b0e2-b87592cc3072"
   },
   "outputs": [
    {
     "data": {
      "text/plain": [
       "['LEDTV_UN40S001', 'LEDTV_UN40S0002', 'LEDTV_UN40S0']"
      ]
     },
     "execution_count": 87,
     "metadata": {},
     "output_type": "execute_result"
    }
   ],
   "source": [
    "#접두어가 있다면 PASS 없으면 붙이기\n",
    "for i in range(0, len(tvList)):\n",
    "  eachTvModel = tvList[i]\n",
    "  if eachTvModel.count(preFix) > 0 :\n",
    "    pass\n",
    "  else:\n",
    "    eachTvModel = preFix + eachTvModel\n",
    "    tvList[i] = eachTvModel\n",
    "\n",
    "tvList"
   ]
  },
  {
   "cell_type": "code",
   "execution_count": null,
   "metadata": {
    "colab": {
     "base_uri": "https://localhost:8080/"
    },
    "id": "FW8_M7bH3YKP",
    "outputId": "216e6926-c21f-4936-eeb8-0001cd12b2e8"
   },
   "outputs": [
    {
     "data": {
      "text/plain": [
       "True"
      ]
     },
     "execution_count": 79,
     "metadata": {},
     "output_type": "execute_result"
    }
   ],
   "source": [
    "eachTvModel.count(preFix) > 0"
   ]
  },
  {
   "cell_type": "code",
   "execution_count": null,
   "metadata": {
    "colab": {
     "base_uri": "https://localhost:8080/"
    },
    "id": "eq8cVEDoPVdU",
    "outputId": "cf7bf083-10f3-42c2-cc05-6c23af5bf4f0"
   },
   "outputs": [
    {
     "name": "stdout",
     "output_type": "stream",
     "text": [
      "['LEDTV_UN40EN001', 'LEDTV_UN40EN002', 'LEDTV_UN40EN003', 'LEDTV_UN40EN004']\n"
     ]
    }
   ],
   "source": [
    "tvList = [\"LEDTV_LEDTV_UN40EN001\",\"LEDTV_UN40EN002\",\"LEDTV_UN40EN003\",\"UN40EN004\"]\n",
    "for i in range(0,len(tvList)):\n",
    "  eachTv= tvList[i]\n",
    "  prefix = \"LEDTV_\"\n",
    "  # LEDTV글자없애기\n",
    "  eachTv = eachTv.replace(prefix,\"\")\n",
    "  tvList[i] = prefix+eachTv;\n",
    "\n",
    "print(tvList)\n"
   ]
  },
  {
   "cell_type": "code",
   "execution_count": null,
   "metadata": {
    "colab": {
     "base_uri": "https://localhost:8080/"
    },
    "id": "pQFtKoZeUAJd",
    "outputId": "1e45a875-8131-47ca-b18a-f245cd0b7041"
   },
   "outputs": [
    {
     "name": "stdout",
     "output_type": "stream",
     "text": [
      "UN40EN001\n"
     ]
    }
   ],
   "source": [
    "tvList = [\"LEDTV_LEDTV_UN40EN001\",\"LEDTV_UN40EN002\",\"LEDTV_UN40EN003\",\"UN40EN004\"]\n",
    "eachTv = tvList[0]\n",
    "eachTv = eachTv.replace(prefix,\"\")\n",
    "print(eachTv)"
   ]
  },
  {
   "cell_type": "code",
   "execution_count": null,
   "metadata": {
    "id": "l8It3I8hTdAS"
   },
   "outputs": [],
   "source": [
    "tvList = [\"LEDTV_LEDTV_UN40EN001\",\"LEDTV_UN40EN002\",\"LEDTV_UN40EN003\",\"UN40EN004\"]\n",
    "cnt = 0\n",
    "while (cnt != len(tvList2)):\n",
    "  n = tvList2[cnt].count(preFix)\n",
    "  if n == 0:\n",
    "    tvList2[cnt] = preFix + tvList2[cnt]\n",
    "    cnt = cnt+1\n",
    "\n",
    "  elif n == 1:\n",
    "    cnt = cnt+1\n",
    "    pass ㅠ\n",
    "\n"
   ]
  },
  {
   "cell_type": "code",
   "execution_count": null,
   "metadata": {
    "id": "b_ymu8kSZkgL"
   },
   "outputs": [],
   "source": [
    "def trimmedMeanHk(inList):\n",
    "  \"\"\"\n",
    "    description: calculate average value (except min, max Value)\n",
    "    parameters:\n",
    "    inList -> list : value should be number\n",
    "    inNuum -> int : value should be number\n",
    "  \"\"\"\n",
    "  return \"Aa\""
   ]
  },
  {
   "cell_type": "code",
   "execution_count": null,
   "metadata": {
    "colab": {
     "base_uri": "https://localhost:8080/"
    },
    "id": "yMKxYgkmcrA_",
    "outputId": "c1838267-7498-4a51-b519-e8661fb99753"
   },
   "outputs": [
    {
     "name": "stdout",
     "output_type": "stream",
     "text": [
      "Aa\n"
     ]
    }
   ],
   "source": [
    "list = [1,2,3,4]\n",
    "print(trimmedMeanHk(list))"
   ]
  },
  {
   "cell_type": "code",
   "execution_count": null,
   "metadata": {
    "colab": {
     "base_uri": "https://localhost:8080/",
     "height": 110
    },
    "id": "UcXhOUGdgrrA",
    "outputId": "451cc644-dd32-4e23-8b8f-0e6b888bba1d"
   },
   "outputs": [
    {
     "ename": "SyntaxError",
     "evalue": "invalid syntax (<ipython-input-144-aa8701f34722>, line 1)",
     "output_type": "error",
     "traceback": [
      "\u001b[0;36m  File \u001b[0;32m\"<ipython-input-144-aa8701f34722>\"\u001b[0;36m, line \u001b[0;32m1\u001b[0m\n\u001b[0;31m    import hklab2024kopo import commonFunction as cf\u001b[0m\n\u001b[0m                         ^\u001b[0m\n\u001b[0;31mSyntaxError\u001b[0m\u001b[0;31m:\u001b[0m invalid syntax\n"
     ]
    }
   ],
   "source": [
    "import hklab2024kopo import commonFunction as cf"
   ]
  }
 ],
 "metadata": {
  "colab": {
   "provenance": []
  },
  "kernelspec": {
   "display_name": "Python 3 (ipykernel)",
   "language": "python",
   "name": "python3"
  },
  "language_info": {
   "codemirror_mode": {
    "name": "ipython",
    "version": 3
   },
   "file_extension": ".py",
   "mimetype": "text/x-python",
   "name": "python",
   "nbconvert_exporter": "python",
   "pygments_lexer": "ipython3",
   "version": "3.10.11"
  }
 },
 "nbformat": 4,
 "nbformat_minor": 4
}
