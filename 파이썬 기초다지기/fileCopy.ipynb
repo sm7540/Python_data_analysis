{
 "cells": [
  {
   "cell_type": "code",
   "execution_count": 44,
   "id": "dd03d159-4ce3-4bb3-8691-95ae8819b3a9",
   "metadata": {},
   "outputs": [
    {
     "name": "stdout",
     "output_type": "stream",
     "text": [
      "생성되었습니다\n"
     ]
    }
   ],
   "source": [
    "import pandas as pd\n",
    "import os\n",
    "\n",
    "# 폴더 생성 및 확인\n",
    "copy_file_path=\"../dataset_out/\"\n",
    "if os.path.exists(copy_file_path):\n",
    "   print(\"이미 폴더가 있습니다\")\n",
    "else:\n",
    "    os.makedirs(copy_file_path)\n",
    "    print(\"생성되었습니다\")\n",
    "    \n",
    "file_path = \"../dataset/\"\n",
    "copy_file_path = \"../dataset_out/\"\n",
    "nameConditon = \"kopo_product\" #이름\n",
    "ext =\"csv\" #확장자\n",
    "\n",
    "file_list = os.listdir(\"../dataset\")\n",
    "\n",
    "\n",
    "# 날짜\n",
    "from datetime import datetime\n",
    "now = datetime.now()\n",
    "date_format = \"%Y%m%d%H%M\" \n",
    "formated_datetime = now.strftime(date_format)\n",
    "\n",
    "\n",
    "\n",
    "for eachFile in file_list:\n",
    "    if (eachFile[:12] == nameConditon) & (eachFile[-3:] == ext) :\n",
    "        eachFileCsv = pd.read_csv(file_path+eachFile)\n",
    "        filename = f\"{eachFile[:-3]}{formated_datetime}.csv\"\n",
    "        eachFileCsv.to_csv(copy_file_path + filename,index=False) #데이터 저장하기\n",
    "\n"
   ]
  },
  {
   "cell_type": "code",
   "execution_count": null,
   "id": "2288f4e0-ad6b-47f5-8f91-da31894359d3",
   "metadata": {},
   "outputs": [],
   "source": []
  }
 ],
 "metadata": {
  "kernelspec": {
   "display_name": "Python 3 (ipykernel)",
   "language": "python",
   "name": "python3"
  },
  "language_info": {
   "codemirror_mode": {
    "name": "ipython",
    "version": 3
   },
   "file_extension": ".py",
   "mimetype": "text/x-python",
   "name": "python",
   "nbconvert_exporter": "python",
   "pygments_lexer": "ipython3",
   "version": "3.10.11"
  }
 },
 "nbformat": 4,
 "nbformat_minor": 5
}
